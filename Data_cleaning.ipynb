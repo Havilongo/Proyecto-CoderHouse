{
 "cells": [
  {
   "cell_type": "code",
   "execution_count": 1,
   "id": "549b0dae",
   "metadata": {},
   "outputs": [],
   "source": [
    "import pandas as pd"
   ]
  },
  {
   "cell_type": "markdown",
   "id": "ccda06a9",
   "metadata": {},
   "source": [
    "# Levanto las bases de datos"
   ]
  },
  {
   "cell_type": "code",
   "execution_count": 2,
   "id": "6fd48449",
   "metadata": {},
   "outputs": [],
   "source": [
    "df_fixture = pd.read_csv('https://raw.githubusercontent.com/Havilongo/Proyecto-CoderHouse/main/copa_america2024_fixture.csv')\n",
    "df_datos_recientes = pd.read_csv('https://raw.githubusercontent.com/Havilongo/Proyecto-CoderHouse/main/historial.csv', sep=';')\n",
    "df_datos_historicos = pd.read_csv('https://raw.githubusercontent.com/Havilongo/Proyecto-CoderHouse/main/copa_america_resultados_historicos_data.csv')"
   ]
  },
  {
   "cell_type": "code",
   "execution_count": 3,
   "id": "30b2f598",
   "metadata": {},
   "outputs": [
    {
     "data": {
      "text/html": [
       "<div>\n",
       "<style scoped>\n",
       "    .dataframe tbody tr th:only-of-type {\n",
       "        vertical-align: middle;\n",
       "    }\n",
       "\n",
       "    .dataframe tbody tr th {\n",
       "        vertical-align: top;\n",
       "    }\n",
       "\n",
       "    .dataframe thead th {\n",
       "        text-align: right;\n",
       "    }\n",
       "</style>\n",
       "<table border=\"1\" class=\"dataframe\">\n",
       "  <thead>\n",
       "    <tr style=\"text-align: right;\">\n",
       "      <th></th>\n",
       "      <th>home</th>\n",
       "      <th>score</th>\n",
       "      <th>away</th>\n",
       "      <th>Year</th>\n",
       "    </tr>\n",
       "  </thead>\n",
       "  <tbody>\n",
       "    <tr>\n",
       "      <th>0</th>\n",
       "      <td>Argentina</td>\n",
       "      <td>Match 1</td>\n",
       "      <td>Canada</td>\n",
       "      <td>2024</td>\n",
       "    </tr>\n",
       "    <tr>\n",
       "      <th>1</th>\n",
       "      <td>Peru</td>\n",
       "      <td>Match 2</td>\n",
       "      <td>Chile</td>\n",
       "      <td>2024</td>\n",
       "    </tr>\n",
       "    <tr>\n",
       "      <th>2</th>\n",
       "      <td>Peru</td>\n",
       "      <td>Match 10</td>\n",
       "      <td>Canada</td>\n",
       "      <td>2024</td>\n",
       "    </tr>\n",
       "    <tr>\n",
       "      <th>3</th>\n",
       "      <td>Chile</td>\n",
       "      <td>Match 9</td>\n",
       "      <td>Argentina</td>\n",
       "      <td>2024</td>\n",
       "    </tr>\n",
       "    <tr>\n",
       "      <th>4</th>\n",
       "      <td>Argentina</td>\n",
       "      <td>Match 17</td>\n",
       "      <td>Peru</td>\n",
       "      <td>2024</td>\n",
       "    </tr>\n",
       "    <tr>\n",
       "      <th>5</th>\n",
       "      <td>Canada</td>\n",
       "      <td>Match 18</td>\n",
       "      <td>Chile</td>\n",
       "      <td>2024</td>\n",
       "    </tr>\n",
       "    <tr>\n",
       "      <th>6</th>\n",
       "      <td>Ecuador</td>\n",
       "      <td>Match 4</td>\n",
       "      <td>Venezuela</td>\n",
       "      <td>2024</td>\n",
       "    </tr>\n",
       "    <tr>\n",
       "      <th>7</th>\n",
       "      <td>Mexico</td>\n",
       "      <td>Match 3</td>\n",
       "      <td>Jamaica</td>\n",
       "      <td>2024</td>\n",
       "    </tr>\n",
       "    <tr>\n",
       "      <th>8</th>\n",
       "      <td>Ecuador</td>\n",
       "      <td>Match 12</td>\n",
       "      <td>Jamaica</td>\n",
       "      <td>2024</td>\n",
       "    </tr>\n",
       "    <tr>\n",
       "      <th>9</th>\n",
       "      <td>Venezuela</td>\n",
       "      <td>Match 11</td>\n",
       "      <td>Mexico</td>\n",
       "      <td>2024</td>\n",
       "    </tr>\n",
       "    <tr>\n",
       "      <th>10</th>\n",
       "      <td>Mexico</td>\n",
       "      <td>Match 19</td>\n",
       "      <td>Ecuador</td>\n",
       "      <td>2024</td>\n",
       "    </tr>\n",
       "    <tr>\n",
       "      <th>11</th>\n",
       "      <td>Jamaica</td>\n",
       "      <td>Match 20</td>\n",
       "      <td>Venezuela</td>\n",
       "      <td>2024</td>\n",
       "    </tr>\n",
       "    <tr>\n",
       "      <th>12</th>\n",
       "      <td>United States</td>\n",
       "      <td>Match 5</td>\n",
       "      <td>Bolivia</td>\n",
       "      <td>2024</td>\n",
       "    </tr>\n",
       "    <tr>\n",
       "      <th>13</th>\n",
       "      <td>Uruguay</td>\n",
       "      <td>Match 6</td>\n",
       "      <td>Panama</td>\n",
       "      <td>2024</td>\n",
       "    </tr>\n",
       "    <tr>\n",
       "      <th>14</th>\n",
       "      <td>Panama</td>\n",
       "      <td>Match 13</td>\n",
       "      <td>United States</td>\n",
       "      <td>2024</td>\n",
       "    </tr>\n",
       "    <tr>\n",
       "      <th>15</th>\n",
       "      <td>Uruguay</td>\n",
       "      <td>Match 14</td>\n",
       "      <td>Bolivia</td>\n",
       "      <td>2024</td>\n",
       "    </tr>\n",
       "    <tr>\n",
       "      <th>16</th>\n",
       "      <td>United States</td>\n",
       "      <td>Match 21</td>\n",
       "      <td>Uruguay</td>\n",
       "      <td>2024</td>\n",
       "    </tr>\n",
       "    <tr>\n",
       "      <th>17</th>\n",
       "      <td>Bolivia</td>\n",
       "      <td>Match 22</td>\n",
       "      <td>Panama</td>\n",
       "      <td>2024</td>\n",
       "    </tr>\n",
       "    <tr>\n",
       "      <th>18</th>\n",
       "      <td>Colombia</td>\n",
       "      <td>Match 8</td>\n",
       "      <td>Paraguay</td>\n",
       "      <td>2024</td>\n",
       "    </tr>\n",
       "    <tr>\n",
       "      <th>19</th>\n",
       "      <td>Brazil</td>\n",
       "      <td>Match 7</td>\n",
       "      <td>Costa Rica</td>\n",
       "      <td>2024</td>\n",
       "    </tr>\n",
       "    <tr>\n",
       "      <th>20</th>\n",
       "      <td>Colombia</td>\n",
       "      <td>Match 16</td>\n",
       "      <td>Costa Rica</td>\n",
       "      <td>2024</td>\n",
       "    </tr>\n",
       "    <tr>\n",
       "      <th>21</th>\n",
       "      <td>Paraguay</td>\n",
       "      <td>Match 15</td>\n",
       "      <td>Brazil</td>\n",
       "      <td>2024</td>\n",
       "    </tr>\n",
       "    <tr>\n",
       "      <th>22</th>\n",
       "      <td>Brazil</td>\n",
       "      <td>Match 23</td>\n",
       "      <td>Colombia</td>\n",
       "      <td>2024</td>\n",
       "    </tr>\n",
       "    <tr>\n",
       "      <th>23</th>\n",
       "      <td>Costa Rica</td>\n",
       "      <td>Match 24</td>\n",
       "      <td>Paraguay</td>\n",
       "      <td>2024</td>\n",
       "    </tr>\n",
       "    <tr>\n",
       "      <th>24</th>\n",
       "      <td>Winner Group A</td>\n",
       "      <td>Match 25</td>\n",
       "      <td>Runner-up Group B</td>\n",
       "      <td>2024</td>\n",
       "    </tr>\n",
       "    <tr>\n",
       "      <th>25</th>\n",
       "      <td>Winner Group B</td>\n",
       "      <td>Match 26</td>\n",
       "      <td>Runner-up Group A</td>\n",
       "      <td>2024</td>\n",
       "    </tr>\n",
       "    <tr>\n",
       "      <th>26</th>\n",
       "      <td>Winner Group C</td>\n",
       "      <td>Match 27</td>\n",
       "      <td>Runner-up Group D</td>\n",
       "      <td>2024</td>\n",
       "    </tr>\n",
       "    <tr>\n",
       "      <th>27</th>\n",
       "      <td>Winner Group D</td>\n",
       "      <td>Match 28</td>\n",
       "      <td>Runner-up Group C</td>\n",
       "      <td>2024</td>\n",
       "    </tr>\n",
       "    <tr>\n",
       "      <th>28</th>\n",
       "      <td>Winner Match 25</td>\n",
       "      <td>Match 29</td>\n",
       "      <td>Winner Match 26</td>\n",
       "      <td>2024</td>\n",
       "    </tr>\n",
       "    <tr>\n",
       "      <th>29</th>\n",
       "      <td>Winner Match 27</td>\n",
       "      <td>Match 30</td>\n",
       "      <td>Winner Match 28</td>\n",
       "      <td>2024</td>\n",
       "    </tr>\n",
       "    <tr>\n",
       "      <th>30</th>\n",
       "      <td>Loser Match 29</td>\n",
       "      <td>Match 31</td>\n",
       "      <td>Loser Match 30</td>\n",
       "      <td>2024</td>\n",
       "    </tr>\n",
       "    <tr>\n",
       "      <th>31</th>\n",
       "      <td>Winner Match 29</td>\n",
       "      <td>Match 32</td>\n",
       "      <td>Winner Match 30</td>\n",
       "      <td>2024</td>\n",
       "    </tr>\n",
       "  </tbody>\n",
       "</table>\n",
       "</div>"
      ],
      "text/plain": [
       "               home     score               away  Year\n",
       "0        Argentina    Match 1             Canada  2024\n",
       "1             Peru    Match 2              Chile  2024\n",
       "2             Peru   Match 10             Canada  2024\n",
       "3            Chile    Match 9          Argentina  2024\n",
       "4        Argentina   Match 17               Peru  2024\n",
       "5           Canada   Match 18              Chile  2024\n",
       "6          Ecuador    Match 4          Venezuela  2024\n",
       "7           Mexico    Match 3            Jamaica  2024\n",
       "8          Ecuador   Match 12            Jamaica  2024\n",
       "9        Venezuela   Match 11             Mexico  2024\n",
       "10          Mexico   Match 19            Ecuador  2024\n",
       "11         Jamaica   Match 20          Venezuela  2024\n",
       "12   United States    Match 5            Bolivia  2024\n",
       "13         Uruguay    Match 6             Panama  2024\n",
       "14          Panama   Match 13      United States  2024\n",
       "15         Uruguay   Match 14            Bolivia  2024\n",
       "16   United States   Match 21            Uruguay  2024\n",
       "17         Bolivia   Match 22             Panama  2024\n",
       "18        Colombia    Match 8           Paraguay  2024\n",
       "19          Brazil    Match 7         Costa Rica  2024\n",
       "20        Colombia   Match 16         Costa Rica  2024\n",
       "21        Paraguay   Match 15             Brazil  2024\n",
       "22          Brazil   Match 23           Colombia  2024\n",
       "23      Costa Rica   Match 24           Paraguay  2024\n",
       "24   Winner Group A  Match 25  Runner-up Group B  2024\n",
       "25   Winner Group B  Match 26  Runner-up Group A  2024\n",
       "26   Winner Group C  Match 27  Runner-up Group D  2024\n",
       "27   Winner Group D  Match 28  Runner-up Group C  2024\n",
       "28  Winner Match 25  Match 29    Winner Match 26  2024\n",
       "29  Winner Match 27  Match 30    Winner Match 28  2024\n",
       "30   Loser Match 29  Match 31     Loser Match 30  2024\n",
       "31  Winner Match 29  Match 32    Winner Match 30  2024"
      ]
     },
     "execution_count": 3,
     "metadata": {},
     "output_type": "execute_result"
    }
   ],
   "source": [
    "df_fixture"
   ]
  },
  {
   "cell_type": "code",
   "execution_count": 4,
   "id": "e5bfd065",
   "metadata": {
    "scrolled": false
   },
   "outputs": [
    {
     "data": {
      "text/html": [
       "<div>\n",
       "<style scoped>\n",
       "    .dataframe tbody tr th:only-of-type {\n",
       "        vertical-align: middle;\n",
       "    }\n",
       "\n",
       "    .dataframe tbody tr th {\n",
       "        vertical-align: top;\n",
       "    }\n",
       "\n",
       "    .dataframe thead th {\n",
       "        text-align: right;\n",
       "    }\n",
       "</style>\n",
       "<table border=\"1\" class=\"dataframe\">\n",
       "  <thead>\n",
       "    <tr style=\"text-align: right;\">\n",
       "      <th></th>\n",
       "      <th>home</th>\n",
       "      <th>score</th>\n",
       "      <th>away</th>\n",
       "      <th>year</th>\n",
       "    </tr>\n",
       "  </thead>\n",
       "  <tbody>\n",
       "    <tr>\n",
       "      <th>0</th>\n",
       "      <td>México</td>\n",
       "      <td>1-0</td>\n",
       "      <td>Bolívia</td>\n",
       "      <td>2024</td>\n",
       "    </tr>\n",
       "    <tr>\n",
       "      <th>1</th>\n",
       "      <td>Bolívia</td>\n",
       "      <td>1-0</td>\n",
       "      <td>Andorra</td>\n",
       "      <td>2024</td>\n",
       "    </tr>\n",
       "    <tr>\n",
       "      <th>2</th>\n",
       "      <td>Argelia</td>\n",
       "      <td>3-2</td>\n",
       "      <td>Bolívia</td>\n",
       "      <td>2024</td>\n",
       "    </tr>\n",
       "    <tr>\n",
       "      <th>3</th>\n",
       "      <td>Uruguay</td>\n",
       "      <td>3-0</td>\n",
       "      <td>Bolívia</td>\n",
       "      <td>2023</td>\n",
       "    </tr>\n",
       "    <tr>\n",
       "      <th>4</th>\n",
       "      <td>Bolívia</td>\n",
       "      <td>2-0</td>\n",
       "      <td>Perú</td>\n",
       "      <td>2023</td>\n",
       "    </tr>\n",
       "    <tr>\n",
       "      <th>...</th>\n",
       "      <td>...</td>\n",
       "      <td>...</td>\n",
       "      <td>...</td>\n",
       "      <td>...</td>\n",
       "    </tr>\n",
       "    <tr>\n",
       "      <th>371</th>\n",
       "      <td>Japón</td>\n",
       "      <td>4-1</td>\n",
       "      <td>Paraguay</td>\n",
       "      <td>2022</td>\n",
       "    </tr>\n",
       "    <tr>\n",
       "      <th>372</th>\n",
       "      <td>Perú</td>\n",
       "      <td>2-0</td>\n",
       "      <td>Paraguay</td>\n",
       "      <td>2022</td>\n",
       "    </tr>\n",
       "    <tr>\n",
       "      <th>373</th>\n",
       "      <td>Paraguay</td>\n",
       "      <td>3-1</td>\n",
       "      <td>Ecuador</td>\n",
       "      <td>2022</td>\n",
       "    </tr>\n",
       "    <tr>\n",
       "      <th>374</th>\n",
       "      <td>Brasil</td>\n",
       "      <td>4-0</td>\n",
       "      <td>Paraguay</td>\n",
       "      <td>2022</td>\n",
       "    </tr>\n",
       "    <tr>\n",
       "      <th>375</th>\n",
       "      <td>Paraguay</td>\n",
       "      <td>0-1</td>\n",
       "      <td>Uruguay</td>\n",
       "      <td>2022</td>\n",
       "    </tr>\n",
       "  </tbody>\n",
       "</table>\n",
       "<p>376 rows × 4 columns</p>\n",
       "</div>"
      ],
      "text/plain": [
       "         home score      away  year\n",
       "0      México   1-0   Bolívia  2024\n",
       "1     Bolívia   1-0   Andorra  2024\n",
       "2     Argelia   3-2   Bolívia  2024\n",
       "3     Uruguay   3-0   Bolívia  2023\n",
       "4     Bolívia   2-0      Perú  2023\n",
       "..        ...   ...       ...   ...\n",
       "371     Japón   4-1  Paraguay  2022\n",
       "372      Perú   2-0  Paraguay  2022\n",
       "373  Paraguay   3-1   Ecuador  2022\n",
       "374    Brasil   4-0  Paraguay  2022\n",
       "375  Paraguay   0-1   Uruguay  2022\n",
       "\n",
       "[376 rows x 4 columns]"
      ]
     },
     "execution_count": 4,
     "metadata": {},
     "output_type": "execute_result"
    }
   ],
   "source": [
    "df_datos_recientes"
   ]
  },
  {
   "cell_type": "code",
   "execution_count": 5,
   "id": "bfad7eb0",
   "metadata": {},
   "outputs": [
    {
     "data": {
      "text/html": [
       "<div>\n",
       "<style scoped>\n",
       "    .dataframe tbody tr th:only-of-type {\n",
       "        vertical-align: middle;\n",
       "    }\n",
       "\n",
       "    .dataframe tbody tr th {\n",
       "        vertical-align: top;\n",
       "    }\n",
       "\n",
       "    .dataframe thead th {\n",
       "        text-align: right;\n",
       "    }\n",
       "</style>\n",
       "<table border=\"1\" class=\"dataframe\">\n",
       "  <thead>\n",
       "    <tr style=\"text-align: right;\">\n",
       "      <th></th>\n",
       "      <th>home</th>\n",
       "      <th>score</th>\n",
       "      <th>away</th>\n",
       "      <th>Year</th>\n",
       "    </tr>\n",
       "  </thead>\n",
       "  <tbody>\n",
       "    <tr>\n",
       "      <th>0</th>\n",
       "      <td>Venezuela</td>\n",
       "      <td>0–4</td>\n",
       "      <td>Brazil</td>\n",
       "      <td>1975</td>\n",
       "    </tr>\n",
       "    <tr>\n",
       "      <th>1</th>\n",
       "      <td>Venezuela</td>\n",
       "      <td>1–5</td>\n",
       "      <td>Argentina</td>\n",
       "      <td>1975</td>\n",
       "    </tr>\n",
       "    <tr>\n",
       "      <th>2</th>\n",
       "      <td>Brazil</td>\n",
       "      <td>2–1</td>\n",
       "      <td>Argentina</td>\n",
       "      <td>1975</td>\n",
       "    </tr>\n",
       "    <tr>\n",
       "      <th>3</th>\n",
       "      <td>Argentina</td>\n",
       "      <td>11–0</td>\n",
       "      <td>Venezuela</td>\n",
       "      <td>1975</td>\n",
       "    </tr>\n",
       "    <tr>\n",
       "      <th>4</th>\n",
       "      <td>Brazil</td>\n",
       "      <td>6–0</td>\n",
       "      <td>Venezuela</td>\n",
       "      <td>1975</td>\n",
       "    </tr>\n",
       "    <tr>\n",
       "      <th>...</th>\n",
       "      <td>...</td>\n",
       "      <td>...</td>\n",
       "      <td>...</td>\n",
       "      <td>...</td>\n",
       "    </tr>\n",
       "    <tr>\n",
       "      <th>366</th>\n",
       "      <td>Argentina</td>\n",
       "      <td>3–0</td>\n",
       "      <td>Ecuador</td>\n",
       "      <td>2021</td>\n",
       "    </tr>\n",
       "    <tr>\n",
       "      <th>367</th>\n",
       "      <td>Brazil</td>\n",
       "      <td>1–0</td>\n",
       "      <td>Peru</td>\n",
       "      <td>2021</td>\n",
       "    </tr>\n",
       "    <tr>\n",
       "      <th>368</th>\n",
       "      <td>Argentina</td>\n",
       "      <td>1–1</td>\n",
       "      <td>Colombia</td>\n",
       "      <td>2021</td>\n",
       "    </tr>\n",
       "    <tr>\n",
       "      <th>369</th>\n",
       "      <td>Colombia</td>\n",
       "      <td>3–2</td>\n",
       "      <td>Peru</td>\n",
       "      <td>2021</td>\n",
       "    </tr>\n",
       "    <tr>\n",
       "      <th>370</th>\n",
       "      <td>Argentina</td>\n",
       "      <td>1–0</td>\n",
       "      <td>Brazil</td>\n",
       "      <td>2021</td>\n",
       "    </tr>\n",
       "  </tbody>\n",
       "</table>\n",
       "<p>371 rows × 4 columns</p>\n",
       "</div>"
      ],
      "text/plain": [
       "           home score        away  Year\n",
       "0    Venezuela    0–4      Brazil  1975\n",
       "1    Venezuela    1–5   Argentina  1975\n",
       "2       Brazil    2–1   Argentina  1975\n",
       "3    Argentina   11–0   Venezuela  1975\n",
       "4       Brazil    6–0   Venezuela  1975\n",
       "..          ...   ...         ...   ...\n",
       "366  Argentina    3–0     Ecuador  2021\n",
       "367     Brazil    1–0        Peru  2021\n",
       "368  Argentina    1–1    Colombia  2021\n",
       "369   Colombia    3–2        Peru  2021\n",
       "370  Argentina    1–0      Brazil  2021\n",
       "\n",
       "[371 rows x 4 columns]"
      ]
     },
     "execution_count": 5,
     "metadata": {},
     "output_type": "execute_result"
    }
   ],
   "source": [
    "df_datos_historicos"
   ]
  },
  {
   "cell_type": "markdown",
   "id": "2d824526",
   "metadata": {},
   "source": [
    "# Limpiando los datos"
   ]
  },
  {
   "cell_type": "markdown",
   "id": "db208d15",
   "metadata": {},
   "source": [
    " ### Limpiando el fixture"
   ]
  },
  {
   "cell_type": "code",
   "execution_count": 6,
   "id": "14e08d21",
   "metadata": {},
   "outputs": [],
   "source": [
    "#Eliminar espacios en los nombres de los registros \n",
    "\n",
    "df_fixture['home'] = df_fixture['home'].str.strip()\n",
    "df_fixture['away'] = df_fixture['away'].str.strip()"
   ]
  },
  {
   "cell_type": "code",
   "execution_count": 7,
   "id": "23f3073b",
   "metadata": {},
   "outputs": [
    {
     "data": {
      "text/plain": [
       "0"
      ]
     },
     "execution_count": 7,
     "metadata": {},
     "output_type": "execute_result"
    }
   ],
   "source": [
    "# Reviso si hay duplicados\n",
    "df_fixture.duplicated().sum()"
   ]
  },
  {
   "cell_type": "markdown",
   "id": "0172ae3c",
   "metadata": {},
   "source": [
    "## Limpiando los datos recientes"
   ]
  },
  {
   "cell_type": "code",
   "execution_count": 8,
   "id": "640efa74",
   "metadata": {},
   "outputs": [
    {
     "data": {
      "text/plain": [
       "array(['México', 'Bolívia', 'Argelia', 'Uruguay', 'Paraguay', 'Brasil',\n",
       "       'Ecuador', 'Arabia Saudita', 'Uzbekistán', 'Perú', 'Colombia',\n",
       "       'Venezuela', 'Estados Unidos', 'Trinidad y Tobago',\n",
       "       'St. Kitts and Nevis', 'Canadá', 'Grenada', 'Países Bajos', 'Irán',\n",
       "       'Inglaterra', 'Argentina', 'Indonesia', 'Polonia',\n",
       "       'Emiratos Árabes Unidos', 'Italia', 'Jamaica', 'Panamá',\n",
       "       'Guatemala', 'Haití', 'Camerún', 'Catar', 'España', 'Marruecos',\n",
       "       'Croacia', 'Japón', 'Corea del Sur', 'Honduras', 'Suriname',\n",
       "       'Costa Rica', 'Curacao', 'Martinique', 'Francia', 'Albania',\n",
       "       'Chile', 'Eslovaquia', 'Ghana', 'CoreadelSur', 'Alemania',\n",
       "       'EstadosUnidos', 'ArabiaSaudita', 'ElSalvador', 'Australia',\n",
       "       'El Salvador', 'Costa de Marfil', 'Portugal', 'Siria', 'Malta'],\n",
       "      dtype=object)"
      ]
     },
     "execution_count": 8,
     "metadata": {},
     "output_type": "execute_result"
    }
   ],
   "source": [
    "df_datos_recientes['home'].unique()"
   ]
  },
  {
   "cell_type": "code",
   "execution_count": null,
   "id": "9a73f607",
   "metadata": {},
   "outputs": [],
   "source": []
  },
  {
   "cell_type": "code",
   "execution_count": 9,
   "id": "01e6a99d",
   "metadata": {},
   "outputs": [
    {
     "data": {
      "text/plain": [
       "(376, 4)"
      ]
     },
     "execution_count": 9,
     "metadata": {},
     "output_type": "execute_result"
    }
   ],
   "source": [
    "df_datos_recientes.shape"
   ]
  },
  {
   "cell_type": "code",
   "execution_count": 10,
   "id": "c9500440",
   "metadata": {},
   "outputs": [],
   "source": [
    "#df_historical_data['score'] = df_historical_data['score'].str.strip()\n",
    "df_datos_recientes['away'] = df_datos_recientes['away'].str.strip()\n",
    "df_datos_recientes['home'] = df_datos_recientes['home'].str.strip()\n"
   ]
  },
  {
   "cell_type": "code",
   "execution_count": 11,
   "id": "05c526f8",
   "metadata": {
    "scrolled": true
   },
   "outputs": [
    {
     "data": {
      "text/plain": [
       "home     0\n",
       "score    0\n",
       "away     0\n",
       "year     0\n",
       "dtype: int64"
      ]
     },
     "execution_count": 11,
     "metadata": {},
     "output_type": "execute_result"
    }
   ],
   "source": [
    "# Reviso si hay nulos\n",
    "df_datos_recientes.isnull().sum()"
   ]
  },
  {
   "cell_type": "code",
   "execution_count": 12,
   "id": "cdf928a9",
   "metadata": {},
   "outputs": [],
   "source": [
    "#Drop los nulos\n",
    "df_datos_recientes.dropna(inplace=True)"
   ]
  },
  {
   "cell_type": "code",
   "execution_count": 13,
   "id": "6b32873e",
   "metadata": {},
   "outputs": [
    {
     "data": {
      "text/plain": [
       "101"
      ]
     },
     "execution_count": 13,
     "metadata": {},
     "output_type": "execute_result"
    }
   ],
   "source": [
    "# Reviso si hay duplicados\n",
    "df_datos_recientes.duplicated().sum()"
   ]
  },
  {
   "cell_type": "code",
   "execution_count": 14,
   "id": "5247999f",
   "metadata": {},
   "outputs": [],
   "source": [
    "df_datos_recientes.drop_duplicates(inplace=True)"
   ]
  },
  {
   "cell_type": "code",
   "execution_count": 15,
   "id": "80d326e6",
   "metadata": {},
   "outputs": [],
   "source": [
    "df_datos_recientes['year'] = df_datos_recientes['year'].astype('int')"
   ]
  },
  {
   "cell_type": "code",
   "execution_count": 16,
   "id": "eacd60c3",
   "metadata": {},
   "outputs": [],
   "source": [
    "# Ordeno por anio\n",
    "df_datos_recientes.sort_values(by='year', inplace=True)"
   ]
  },
  {
   "cell_type": "code",
   "execution_count": 17,
   "id": "b4fc21f4",
   "metadata": {},
   "outputs": [
    {
     "data": {
      "text/html": [
       "<div>\n",
       "<style scoped>\n",
       "    .dataframe tbody tr th:only-of-type {\n",
       "        vertical-align: middle;\n",
       "    }\n",
       "\n",
       "    .dataframe tbody tr th {\n",
       "        vertical-align: top;\n",
       "    }\n",
       "\n",
       "    .dataframe thead th {\n",
       "        text-align: right;\n",
       "    }\n",
       "</style>\n",
       "<table border=\"1\" class=\"dataframe\">\n",
       "  <thead>\n",
       "    <tr style=\"text-align: right;\">\n",
       "      <th></th>\n",
       "      <th>home</th>\n",
       "      <th>score</th>\n",
       "      <th>away</th>\n",
       "      <th>year</th>\n",
       "    </tr>\n",
       "  </thead>\n",
       "  <tbody>\n",
       "    <tr>\n",
       "      <th>353</th>\n",
       "      <td>Argentina</td>\n",
       "      <td>3-0</td>\n",
       "      <td>Venezuela</td>\n",
       "      <td>2022</td>\n",
       "    </tr>\n",
       "    <tr>\n",
       "      <th>111</th>\n",
       "      <td>Brasil</td>\n",
       "      <td>2-0</td>\n",
       "      <td>Serbia</td>\n",
       "      <td>2022</td>\n",
       "    </tr>\n",
       "    <tr>\n",
       "      <th>110</th>\n",
       "      <td>Brasil</td>\n",
       "      <td>1-0</td>\n",
       "      <td>Suiza</td>\n",
       "      <td>2022</td>\n",
       "    </tr>\n",
       "    <tr>\n",
       "      <th>109</th>\n",
       "      <td>Camerún</td>\n",
       "      <td>1-0</td>\n",
       "      <td>Brasil</td>\n",
       "      <td>2022</td>\n",
       "    </tr>\n",
       "    <tr>\n",
       "      <th>108</th>\n",
       "      <td>Brasil</td>\n",
       "      <td>4-1</td>\n",
       "      <td>Corea del Sur</td>\n",
       "      <td>2022</td>\n",
       "    </tr>\n",
       "    <tr>\n",
       "      <th>...</th>\n",
       "      <td>...</td>\n",
       "      <td>...</td>\n",
       "      <td>...</td>\n",
       "      <td>...</td>\n",
       "    </tr>\n",
       "    <tr>\n",
       "      <th>71</th>\n",
       "      <td>Jamaica</td>\n",
       "      <td>1-0</td>\n",
       "      <td>República Dominicana</td>\n",
       "      <td>2024</td>\n",
       "    </tr>\n",
       "    <tr>\n",
       "      <th>47</th>\n",
       "      <td>Argentina</td>\n",
       "      <td>3-0</td>\n",
       "      <td>El Salvador</td>\n",
       "      <td>2024</td>\n",
       "    </tr>\n",
       "    <tr>\n",
       "      <th>46</th>\n",
       "      <td>Argentina</td>\n",
       "      <td>3-1</td>\n",
       "      <td>Costa Rica</td>\n",
       "      <td>2024</td>\n",
       "    </tr>\n",
       "    <tr>\n",
       "      <th>309</th>\n",
       "      <td>Ecuador</td>\n",
       "      <td>0-2</td>\n",
       "      <td>Italia</td>\n",
       "      <td>2024</td>\n",
       "    </tr>\n",
       "    <tr>\n",
       "      <th>0</th>\n",
       "      <td>México</td>\n",
       "      <td>1-0</td>\n",
       "      <td>Bolívia</td>\n",
       "      <td>2024</td>\n",
       "    </tr>\n",
       "  </tbody>\n",
       "</table>\n",
       "<p>275 rows × 4 columns</p>\n",
       "</div>"
      ],
      "text/plain": [
       "          home score                  away  year\n",
       "353  Argentina   3-0             Venezuela  2022\n",
       "111     Brasil   2-0                Serbia  2022\n",
       "110     Brasil   1-0                 Suiza  2022\n",
       "109    Camerún   1-0                Brasil  2022\n",
       "108     Brasil   4-1         Corea del Sur  2022\n",
       "..         ...   ...                   ...   ...\n",
       "71     Jamaica   1-0  República Dominicana  2024\n",
       "47   Argentina   3-0           El Salvador  2024\n",
       "46   Argentina   3-1            Costa Rica  2024\n",
       "309    Ecuador   0-2                Italia  2024\n",
       "0       México   1-0               Bolívia  2024\n",
       "\n",
       "[275 rows x 4 columns]"
      ]
     },
     "execution_count": 17,
     "metadata": {},
     "output_type": "execute_result"
    }
   ],
   "source": [
    "df_datos_recientes"
   ]
  },
  {
   "cell_type": "markdown",
   "id": "29a9ac61",
   "metadata": {},
   "source": [
    "#### Agrego partidos que sucedieron en el ultimo tiempo "
   ]
  },
  {
   "cell_type": "code",
   "execution_count": 18,
   "id": "8ce482a9",
   "metadata": {},
   "outputs": [],
   "source": [
    "nuevo_dato = {'home': ['Argentina', 'Estados Unidos','Dominica','México','Francia','Montserrat','Chile','Grenada'], \n",
    "              'score': ['1-0', '1-5','2-3','2-3','0-0','1-3','3-0','0-3'], \n",
    "              'away': ['Ecuador', 'Colombia','Jamaica','Brasil','Canadá', 'Panamá','Paraguay','Costa Rica'], \n",
    "              'year' : [2024, 2024, 2024,2024,2024,2024,2024,2024]}\n",
    "\n",
    "nueva_fila = pd.DataFrame(nuevo_dato)\n",
    "df_datos_recientes = pd.concat([df_datos_recientes, nueva_fila], ignore_index=True)\n",
    "\n"
   ]
  },
  {
   "cell_type": "code",
   "execution_count": 19,
   "id": "c94c22a9",
   "metadata": {},
   "outputs": [
    {
     "name": "stdout",
     "output_type": "stream",
     "text": [
      "<class 'pandas.core.frame.DataFrame'>\n",
      "RangeIndex: 283 entries, 0 to 282\n",
      "Data columns (total 4 columns):\n",
      " #   Column  Non-Null Count  Dtype \n",
      "---  ------  --------------  ----- \n",
      " 0   home    283 non-null    object\n",
      " 1   score   283 non-null    object\n",
      " 2   away    283 non-null    object\n",
      " 3   year    283 non-null    int64 \n",
      "dtypes: int64(1), object(3)\n",
      "memory usage: 9.0+ KB\n"
     ]
    }
   ],
   "source": [
    "df_datos_recientes.info()"
   ]
  },
  {
   "cell_type": "code",
   "execution_count": 20,
   "id": "03a89772",
   "metadata": {
    "scrolled": false
   },
   "outputs": [
    {
     "data": {
      "text/plain": [
       "home                   Paraguay\n",
       "score                       1-0\n",
       "away     Emiratos Árabes Unidos\n",
       "year                       2022\n",
       "Name: 49, dtype: object"
      ]
     },
     "execution_count": 20,
     "metadata": {},
     "output_type": "execute_result"
    }
   ],
   "source": [
    "# Chequeo como queda cada registro\n",
    "df_datos_recientes.loc[49,]"
   ]
  },
  {
   "cell_type": "code",
   "execution_count": 21,
   "id": "f24c3eec",
   "metadata": {},
   "outputs": [
    {
     "data": {
      "text/plain": [
       "array(['3-0', '2-0', '1-0', '4-1', '1-1', '0-1', '2-1', '1-4', '0-0',\n",
       "       '0-3', '5-0', '0-5', '1-2', '5-1', '1-5', '2-2', '0-2', '3-1',\n",
       "       '4-0', '2-3', '0-4', '7-0', '3-3', '2-4', '1-3', '6-4', '3-2',\n",
       "       '6-0', '0-6', '7-1'], dtype=object)"
      ]
     },
     "execution_count": 21,
     "metadata": {},
     "output_type": "execute_result"
    }
   ],
   "source": [
    "df_datos_recientes['score'].unique()"
   ]
  },
  {
   "cell_type": "markdown",
   "id": "de0cb8a9",
   "metadata": {},
   "source": [
    "## Limpiando los datos historicos"
   ]
  },
  {
   "cell_type": "code",
   "execution_count": 22,
   "id": "5f49111e",
   "metadata": {
    "scrolled": false
   },
   "outputs": [
    {
     "data": {
      "text/html": [
       "<div>\n",
       "<style scoped>\n",
       "    .dataframe tbody tr th:only-of-type {\n",
       "        vertical-align: middle;\n",
       "    }\n",
       "\n",
       "    .dataframe tbody tr th {\n",
       "        vertical-align: top;\n",
       "    }\n",
       "\n",
       "    .dataframe thead th {\n",
       "        text-align: right;\n",
       "    }\n",
       "</style>\n",
       "<table border=\"1\" class=\"dataframe\">\n",
       "  <thead>\n",
       "    <tr style=\"text-align: right;\">\n",
       "      <th></th>\n",
       "      <th>home</th>\n",
       "      <th>score</th>\n",
       "      <th>away</th>\n",
       "      <th>Year</th>\n",
       "    </tr>\n",
       "  </thead>\n",
       "  <tbody>\n",
       "    <tr>\n",
       "      <th>0</th>\n",
       "      <td>Venezuela</td>\n",
       "      <td>0–4</td>\n",
       "      <td>Brazil</td>\n",
       "      <td>1975</td>\n",
       "    </tr>\n",
       "    <tr>\n",
       "      <th>1</th>\n",
       "      <td>Venezuela</td>\n",
       "      <td>1–5</td>\n",
       "      <td>Argentina</td>\n",
       "      <td>1975</td>\n",
       "    </tr>\n",
       "    <tr>\n",
       "      <th>2</th>\n",
       "      <td>Brazil</td>\n",
       "      <td>2–1</td>\n",
       "      <td>Argentina</td>\n",
       "      <td>1975</td>\n",
       "    </tr>\n",
       "    <tr>\n",
       "      <th>3</th>\n",
       "      <td>Argentina</td>\n",
       "      <td>11–0</td>\n",
       "      <td>Venezuela</td>\n",
       "      <td>1975</td>\n",
       "    </tr>\n",
       "    <tr>\n",
       "      <th>4</th>\n",
       "      <td>Brazil</td>\n",
       "      <td>6–0</td>\n",
       "      <td>Venezuela</td>\n",
       "      <td>1975</td>\n",
       "    </tr>\n",
       "    <tr>\n",
       "      <th>...</th>\n",
       "      <td>...</td>\n",
       "      <td>...</td>\n",
       "      <td>...</td>\n",
       "      <td>...</td>\n",
       "    </tr>\n",
       "    <tr>\n",
       "      <th>366</th>\n",
       "      <td>Argentina</td>\n",
       "      <td>3–0</td>\n",
       "      <td>Ecuador</td>\n",
       "      <td>2021</td>\n",
       "    </tr>\n",
       "    <tr>\n",
       "      <th>367</th>\n",
       "      <td>Brazil</td>\n",
       "      <td>1–0</td>\n",
       "      <td>Peru</td>\n",
       "      <td>2021</td>\n",
       "    </tr>\n",
       "    <tr>\n",
       "      <th>368</th>\n",
       "      <td>Argentina</td>\n",
       "      <td>1–1</td>\n",
       "      <td>Colombia</td>\n",
       "      <td>2021</td>\n",
       "    </tr>\n",
       "    <tr>\n",
       "      <th>369</th>\n",
       "      <td>Colombia</td>\n",
       "      <td>3–2</td>\n",
       "      <td>Peru</td>\n",
       "      <td>2021</td>\n",
       "    </tr>\n",
       "    <tr>\n",
       "      <th>370</th>\n",
       "      <td>Argentina</td>\n",
       "      <td>1–0</td>\n",
       "      <td>Brazil</td>\n",
       "      <td>2021</td>\n",
       "    </tr>\n",
       "  </tbody>\n",
       "</table>\n",
       "<p>371 rows × 4 columns</p>\n",
       "</div>"
      ],
      "text/plain": [
       "           home score        away  Year\n",
       "0    Venezuela    0–4      Brazil  1975\n",
       "1    Venezuela    1–5   Argentina  1975\n",
       "2       Brazil    2–1   Argentina  1975\n",
       "3    Argentina   11–0   Venezuela  1975\n",
       "4       Brazil    6–0   Venezuela  1975\n",
       "..          ...   ...         ...   ...\n",
       "366  Argentina    3–0     Ecuador  2021\n",
       "367     Brazil    1–0        Peru  2021\n",
       "368  Argentina    1–1    Colombia  2021\n",
       "369   Colombia    3–2        Peru  2021\n",
       "370  Argentina    1–0      Brazil  2021\n",
       "\n",
       "[371 rows x 4 columns]"
      ]
     },
     "execution_count": 22,
     "metadata": {},
     "output_type": "execute_result"
    }
   ],
   "source": [
    "df_datos_historicos"
   ]
  },
  {
   "cell_type": "code",
   "execution_count": 23,
   "id": "f3551ccf",
   "metadata": {},
   "outputs": [
    {
     "name": "stdout",
     "output_type": "stream",
     "text": [
      "<class 'pandas.core.frame.DataFrame'>\n",
      "RangeIndex: 371 entries, 0 to 370\n",
      "Data columns (total 4 columns):\n",
      " #   Column  Non-Null Count  Dtype \n",
      "---  ------  --------------  ----- \n",
      " 0   home    371 non-null    object\n",
      " 1   score   371 non-null    object\n",
      " 2   away    371 non-null    object\n",
      " 3   Year    371 non-null    int64 \n",
      "dtypes: int64(1), object(3)\n",
      "memory usage: 11.7+ KB\n"
     ]
    }
   ],
   "source": [
    "df_datos_historicos.info()"
   ]
  },
  {
   "cell_type": "code",
   "execution_count": 24,
   "id": "c6fb7c4a",
   "metadata": {},
   "outputs": [],
   "source": [
    "# Cambio el nombre de la columna Year a year para que coincida con el otro data frame\n",
    "df_datos_historicos = df_datos_historicos.rename(columns={'Year': 'year'})\n",
    "df_datos_historicos['year'] = df_datos_historicos['year'].astype('int')"
   ]
  },
  {
   "cell_type": "code",
   "execution_count": 25,
   "id": "35d0bb28",
   "metadata": {},
   "outputs": [
    {
     "name": "stdout",
     "output_type": "stream",
     "text": [
      "['Venezuela\\xa0' 'Brazil\\xa0' 'Argentina\\xa0' 'Chile\\xa0' 'Bolivia\\xa0'\n",
      " 'Peru\\xa0' 'Colombia\\xa0' 'Ecuador\\xa0' 'Paraguay\\xa0' 'Uruguay\\xa0'\n",
      " 'Mexico\\xa0' 'United States\\xa0' 'Japan\\xa0' 'Honduras\\xa0'\n",
      " 'Costa Rica\\xa0' 'Haiti\\xa0' 'Jamaica\\xa0' 'Panama\\xa0' 'Qatar\\xa0']\n",
      "+-+-+-+-+-+-+-+-+-+-+-+-+-+-+-+-+-+-+\n",
      "['\\xa0Brazil' '\\xa0Argentina' '\\xa0Venezuela' '\\xa0Peru' '\\xa0Chile'\n",
      " '\\xa0Bolivia' '\\xa0Paraguay' '\\xa0Colombia' '\\xa0Ecuador' '\\xa0Uruguay'\n",
      " '\\xa0United States' '\\xa0Mexico' '\\xa0Costa Rica' '\\xa0Japan'\n",
      " '\\xa0Honduras' '\\xa0Haiti' '\\xa0Jamaica' '\\xa0Panama' '\\xa0Qatar']\n"
     ]
    }
   ],
   "source": [
    "# Chequeo el nombre de los paises\n",
    "print(df_datos_historicos['home'].unique())\n",
    "print('+-+-+-+-+-+-+-+-+-+-+-+-+-+-+-+-+-+-+')\n",
    "print(df_datos_historicos['away'].unique())"
   ]
  },
  {
   "cell_type": "code",
   "execution_count": 26,
   "id": "11f1ae23",
   "metadata": {},
   "outputs": [],
   "source": [
    "# Los nombres de los paises estan en ingles y tienen algunos caracteres extras\n",
    "# Primerlo elimino los caracteres extras \n",
    "df_datos_historicos['away'] = df_datos_historicos['away'].str.strip()\n",
    "df_datos_historicos['home'] = df_datos_historicos['home'].str.strip()\n"
   ]
  },
  {
   "cell_type": "code",
   "execution_count": 27,
   "id": "30e68ee4",
   "metadata": {},
   "outputs": [
    {
     "data": {
      "text/plain": [
       "array(['Venezuela', 'Brazil', 'Argentina', 'Chile', 'Bolivia', 'Peru',\n",
       "       'Colombia', 'Ecuador', 'Paraguay', 'Uruguay', 'Mexico',\n",
       "       'United States', 'Japan', 'Honduras', 'Costa Rica', 'Haiti',\n",
       "       'Jamaica', 'Panama', 'Qatar'], dtype=object)"
      ]
     },
     "execution_count": 27,
     "metadata": {},
     "output_type": "execute_result"
    }
   ],
   "source": [
    "# Chequeo el nombre de los paises\n",
    "df_datos_historicos['home'].unique()"
   ]
  },
  {
   "cell_type": "markdown",
   "id": "e69f6672",
   "metadata": {},
   "source": [
    "> Los nombres de los paises estan en ingles, tengo que cambiarle a castellano para que coincida con el otro dataset"
   ]
  },
  {
   "cell_type": "code",
   "execution_count": 28,
   "id": "868ecbc8",
   "metadata": {},
   "outputs": [],
   "source": [
    "nombres_equipos = {'Brazil':'Brasil',\n",
    "                   'Mexico':'México',\n",
    "                   'Bolivia' : 'Bolívia',\n",
    "                   'Japan' : 'Japón',\n",
    "                   'Panama' : 'Panamá',\n",
    "                   'Peru' : 'Perú',\n",
    "                   'Qatar': 'Catar',\n",
    "                   'United States' : 'Estados Unidos'\n",
    "                  }"
   ]
  },
  {
   "cell_type": "code",
   "execution_count": 29,
   "id": "b695c8ee",
   "metadata": {},
   "outputs": [],
   "source": [
    "df_datos_historicos['home'] = df_datos_historicos['home'].replace(nombres_equipos)"
   ]
  },
  {
   "cell_type": "code",
   "execution_count": 30,
   "id": "1a9465b1",
   "metadata": {},
   "outputs": [
    {
     "data": {
      "text/plain": [
       "array(['Venezuela', 'Brasil', 'Argentina', 'Chile', 'Bolívia', 'Perú',\n",
       "       'Colombia', 'Ecuador', 'Paraguay', 'Uruguay', 'México',\n",
       "       'Estados Unidos', 'Japón', 'Honduras', 'Costa Rica', 'Haiti',\n",
       "       'Jamaica', 'Panamá', 'Catar'], dtype=object)"
      ]
     },
     "execution_count": 30,
     "metadata": {},
     "output_type": "execute_result"
    }
   ],
   "source": [
    "df_datos_historicos['home'].unique()"
   ]
  },
  {
   "cell_type": "code",
   "execution_count": 31,
   "id": "2cd83562",
   "metadata": {},
   "outputs": [
    {
     "data": {
      "text/plain": [
       "array(['Brazil', 'Argentina', 'Venezuela', 'Peru', 'Chile', 'Bolivia',\n",
       "       'Paraguay', 'Colombia', 'Ecuador', 'Uruguay', 'United States',\n",
       "       'Mexico', 'Costa Rica', 'Japan', 'Honduras', 'Haiti', 'Jamaica',\n",
       "       'Panama', 'Qatar'], dtype=object)"
      ]
     },
     "execution_count": 31,
     "metadata": {},
     "output_type": "execute_result"
    }
   ],
   "source": [
    "# Chequeo si a away le pasa lo mismo\n",
    "df_datos_historicos['away'].unique()"
   ]
  },
  {
   "cell_type": "code",
   "execution_count": 32,
   "id": "6971119a",
   "metadata": {},
   "outputs": [],
   "source": [
    "# Reemplazo los nombres\n",
    "df_datos_historicos['away'] = df_datos_historicos['away'].replace(nombres_equipos)"
   ]
  },
  {
   "cell_type": "code",
   "execution_count": 33,
   "id": "69650570",
   "metadata": {},
   "outputs": [
    {
     "data": {
      "text/plain": [
       "home     0\n",
       "score    0\n",
       "away     0\n",
       "year     0\n",
       "dtype: int64"
      ]
     },
     "execution_count": 33,
     "metadata": {},
     "output_type": "execute_result"
    }
   ],
   "source": [
    "# Reviso si hay nulos\n",
    "df_datos_historicos.isnull().sum()"
   ]
  },
  {
   "cell_type": "code",
   "execution_count": 34,
   "id": "639ef06f",
   "metadata": {},
   "outputs": [
    {
     "data": {
      "text/plain": [
       "0"
      ]
     },
     "execution_count": 34,
     "metadata": {},
     "output_type": "execute_result"
    }
   ],
   "source": [
    "df_datos_historicos.duplicated().sum()"
   ]
  },
  {
   "cell_type": "code",
   "execution_count": 35,
   "id": "5f44f19c",
   "metadata": {},
   "outputs": [
    {
     "data": {
      "text/plain": [
       "array(['0–4', '1–5', '2–1', '11–0', '6–0', '0–1', '1–1', '3–1', '4–0',\n",
       "       '1–0', '2–2', '1–3', '2–0', '3–0', '0–2', '0–0', '7–0', '1–2',\n",
       "       '0–0 (a.e.t.)', '5–0', '2–1 (a.e.t.)', '6–1', '3–3', '3–2', '4–2',\n",
       "       '4–1', '0–3', '2–3', '1–4', '1–6', '0–2 (a.e.t.)', '1–1 (a.e.t.)',\n",
       "       '7–1', '0–7', '0–5'], dtype=object)"
      ]
     },
     "execution_count": 35,
     "metadata": {},
     "output_type": "execute_result"
    }
   ],
   "source": [
    "df_datos_historicos['score'].unique()"
   ]
  },
  {
   "cell_type": "code",
   "execution_count": 40,
   "id": "a9bc876a",
   "metadata": {},
   "outputs": [],
   "source": [
    "# El score tiene un texto extra que tengo que sacarle y el guion es distinto \n",
    "\n",
    "# Hago una funcion para extraer solo el marcador\n",
    "def extraer_marcador(score):\n",
    "    # Reemplazar el guion \n",
    "    score = score.replace(\"–\", \"-\")\n",
    "    # Dividir la cadena en partes usando el espacio como delimitador\n",
    "    partes = score.split(\" \")\n",
    "    # Seleccionar la primera parte\n",
    "    marcador = partes[0]\n",
    "    return marcador"
   ]
  },
  {
   "cell_type": "code",
   "execution_count": 41,
   "id": "27190ca0",
   "metadata": {},
   "outputs": [],
   "source": [
    "df_datos_historicos['score'] = df_datos_historicos['score'].apply(extraer_marcador)"
   ]
  },
  {
   "cell_type": "code",
   "execution_count": 42,
   "id": "0946752e",
   "metadata": {},
   "outputs": [
    {
     "name": "stdout",
     "output_type": "stream",
     "text": [
      "<class 'pandas.core.frame.DataFrame'>\n",
      "RangeIndex: 371 entries, 0 to 370\n",
      "Data columns (total 4 columns):\n",
      " #   Column  Non-Null Count  Dtype \n",
      "---  ------  --------------  ----- \n",
      " 0   home    371 non-null    object\n",
      " 1   score   371 non-null    object\n",
      " 2   away    371 non-null    object\n",
      " 3   year    371 non-null    int32 \n",
      "dtypes: int32(1), object(3)\n",
      "memory usage: 10.3+ KB\n"
     ]
    }
   ],
   "source": [
    "df_datos_historicos.info()"
   ]
  },
  {
   "cell_type": "code",
   "execution_count": 43,
   "id": "45b3a105",
   "metadata": {},
   "outputs": [
    {
     "data": {
      "text/plain": [
       "array(['0-4', '1-5', '2-1', '11-0', '6-0', '0-1', '1-1', '3-1', '4-0',\n",
       "       '1-0', '2-2', '1-3', '2-0', '3-0', '0-2', '0-0', '7-0', '1-2',\n",
       "       '5-0', '6-1', '3-3', '3-2', '4-2', '4-1', '0-3', '2-3', '1-4',\n",
       "       '1-6', '7-1', '0-7', '0-5'], dtype=object)"
      ]
     },
     "execution_count": 43,
     "metadata": {},
     "output_type": "execute_result"
    }
   ],
   "source": [
    "\n",
    "df_datos_historicos['score'].unique()"
   ]
  },
  {
   "cell_type": "markdown",
   "id": "06b062ba",
   "metadata": {},
   "source": [
    "## Merge Datos de resultados historicos de copa america y partidos jugados"
   ]
  },
  {
   "cell_type": "code",
   "execution_count": 44,
   "id": "3b5fe97a",
   "metadata": {},
   "outputs": [],
   "source": [
    "df_unido = pd.concat([df_datos_recientes, df_datos_historicos], ignore_index=True)"
   ]
  },
  {
   "cell_type": "code",
   "execution_count": 45,
   "id": "ee40b6b4",
   "metadata": {
    "scrolled": true
   },
   "outputs": [
    {
     "data": {
      "text/html": [
       "<div>\n",
       "<style scoped>\n",
       "    .dataframe tbody tr th:only-of-type {\n",
       "        vertical-align: middle;\n",
       "    }\n",
       "\n",
       "    .dataframe tbody tr th {\n",
       "        vertical-align: top;\n",
       "    }\n",
       "\n",
       "    .dataframe thead th {\n",
       "        text-align: right;\n",
       "    }\n",
       "</style>\n",
       "<table border=\"1\" class=\"dataframe\">\n",
       "  <thead>\n",
       "    <tr style=\"text-align: right;\">\n",
       "      <th></th>\n",
       "      <th>home</th>\n",
       "      <th>score</th>\n",
       "      <th>away</th>\n",
       "      <th>year</th>\n",
       "    </tr>\n",
       "  </thead>\n",
       "  <tbody>\n",
       "    <tr>\n",
       "      <th>0</th>\n",
       "      <td>Argentina</td>\n",
       "      <td>3-0</td>\n",
       "      <td>Venezuela</td>\n",
       "      <td>2022</td>\n",
       "    </tr>\n",
       "    <tr>\n",
       "      <th>1</th>\n",
       "      <td>Brasil</td>\n",
       "      <td>2-0</td>\n",
       "      <td>Serbia</td>\n",
       "      <td>2022</td>\n",
       "    </tr>\n",
       "    <tr>\n",
       "      <th>2</th>\n",
       "      <td>Brasil</td>\n",
       "      <td>1-0</td>\n",
       "      <td>Suiza</td>\n",
       "      <td>2022</td>\n",
       "    </tr>\n",
       "    <tr>\n",
       "      <th>3</th>\n",
       "      <td>Camerún</td>\n",
       "      <td>1-0</td>\n",
       "      <td>Brasil</td>\n",
       "      <td>2022</td>\n",
       "    </tr>\n",
       "    <tr>\n",
       "      <th>4</th>\n",
       "      <td>Brasil</td>\n",
       "      <td>4-1</td>\n",
       "      <td>Corea del Sur</td>\n",
       "      <td>2022</td>\n",
       "    </tr>\n",
       "    <tr>\n",
       "      <th>...</th>\n",
       "      <td>...</td>\n",
       "      <td>...</td>\n",
       "      <td>...</td>\n",
       "      <td>...</td>\n",
       "    </tr>\n",
       "    <tr>\n",
       "      <th>649</th>\n",
       "      <td>Argentina</td>\n",
       "      <td>3-0</td>\n",
       "      <td>Ecuador</td>\n",
       "      <td>2021</td>\n",
       "    </tr>\n",
       "    <tr>\n",
       "      <th>650</th>\n",
       "      <td>Brasil</td>\n",
       "      <td>1-0</td>\n",
       "      <td>Perú</td>\n",
       "      <td>2021</td>\n",
       "    </tr>\n",
       "    <tr>\n",
       "      <th>651</th>\n",
       "      <td>Argentina</td>\n",
       "      <td>1-1</td>\n",
       "      <td>Colombia</td>\n",
       "      <td>2021</td>\n",
       "    </tr>\n",
       "    <tr>\n",
       "      <th>652</th>\n",
       "      <td>Colombia</td>\n",
       "      <td>3-2</td>\n",
       "      <td>Perú</td>\n",
       "      <td>2021</td>\n",
       "    </tr>\n",
       "    <tr>\n",
       "      <th>653</th>\n",
       "      <td>Argentina</td>\n",
       "      <td>1-0</td>\n",
       "      <td>Brasil</td>\n",
       "      <td>2021</td>\n",
       "    </tr>\n",
       "  </tbody>\n",
       "</table>\n",
       "<p>654 rows × 4 columns</p>\n",
       "</div>"
      ],
      "text/plain": [
       "          home score           away  year\n",
       "0    Argentina   3-0      Venezuela  2022\n",
       "1       Brasil   2-0         Serbia  2022\n",
       "2       Brasil   1-0          Suiza  2022\n",
       "3      Camerún   1-0         Brasil  2022\n",
       "4       Brasil   4-1  Corea del Sur  2022\n",
       "..         ...   ...            ...   ...\n",
       "649  Argentina   3-0        Ecuador  2021\n",
       "650     Brasil   1-0           Perú  2021\n",
       "651  Argentina   1-1       Colombia  2021\n",
       "652   Colombia   3-2           Perú  2021\n",
       "653  Argentina   1-0         Brasil  2021\n",
       "\n",
       "[654 rows x 4 columns]"
      ]
     },
     "execution_count": 45,
     "metadata": {},
     "output_type": "execute_result"
    }
   ],
   "source": [
    "df_unido"
   ]
  },
  {
   "cell_type": "markdown",
   "id": "39f60394",
   "metadata": {},
   "source": [
    "### Ahora que esta unido en uno solo voy a trabajar sobre la columna de resultados para sacar cuantos goles tiene convertido cada seleccion"
   ]
  },
  {
   "cell_type": "markdown",
   "id": "3172023a",
   "metadata": {},
   "source": [
    "> *Problema:* Score no es del tipo numerica y necesito cambiarla"
   ]
  },
  {
   "cell_type": "markdown",
   "id": "681c4485",
   "metadata": {},
   "source": [
    "##### Voy a eliminar el guion en medio del resultado y voy a crear dos columnas, gol de local y gol de visitante\n",
    "\n"
   ]
  },
  {
   "cell_type": "code",
   "execution_count": 46,
   "id": "995b5a75",
   "metadata": {},
   "outputs": [],
   "source": [
    "# Dividir la columna en goles de equipo local y goles de equipo visitante\n",
    "\n",
    "df_unido[['GolesLocal', 'GolesVisitante']] = df_unido['score'].str.split('-', expand=True)"
   ]
  },
  {
   "cell_type": "code",
   "execution_count": 47,
   "id": "1a6f0e56",
   "metadata": {},
   "outputs": [
    {
     "data": {
      "text/plain": [
       "array(['0', '1', '4', '3', '5', '2', '6', '7'], dtype=object)"
      ]
     },
     "execution_count": 47,
     "metadata": {},
     "output_type": "execute_result"
    }
   ],
   "source": [
    "df_unido['GolesVisitante'].unique()"
   ]
  },
  {
   "cell_type": "code",
   "execution_count": 48,
   "id": "4daefdec",
   "metadata": {},
   "outputs": [],
   "source": [
    "# Drop la columna Score\n",
    "df_unido.drop('score',axis=1, inplace=True)"
   ]
  },
  {
   "cell_type": "code",
   "execution_count": 49,
   "id": "ace06085",
   "metadata": {},
   "outputs": [
    {
     "data": {
      "text/html": [
       "<div>\n",
       "<style scoped>\n",
       "    .dataframe tbody tr th:only-of-type {\n",
       "        vertical-align: middle;\n",
       "    }\n",
       "\n",
       "    .dataframe tbody tr th {\n",
       "        vertical-align: top;\n",
       "    }\n",
       "\n",
       "    .dataframe thead th {\n",
       "        text-align: right;\n",
       "    }\n",
       "</style>\n",
       "<table border=\"1\" class=\"dataframe\">\n",
       "  <thead>\n",
       "    <tr style=\"text-align: right;\">\n",
       "      <th></th>\n",
       "      <th>home</th>\n",
       "      <th>away</th>\n",
       "      <th>year</th>\n",
       "      <th>GolesLocal</th>\n",
       "      <th>GolesVisitante</th>\n",
       "    </tr>\n",
       "  </thead>\n",
       "  <tbody>\n",
       "    <tr>\n",
       "      <th>0</th>\n",
       "      <td>Argentina</td>\n",
       "      <td>Venezuela</td>\n",
       "      <td>2022</td>\n",
       "      <td>3</td>\n",
       "      <td>0</td>\n",
       "    </tr>\n",
       "    <tr>\n",
       "      <th>1</th>\n",
       "      <td>Brasil</td>\n",
       "      <td>Serbia</td>\n",
       "      <td>2022</td>\n",
       "      <td>2</td>\n",
       "      <td>0</td>\n",
       "    </tr>\n",
       "    <tr>\n",
       "      <th>2</th>\n",
       "      <td>Brasil</td>\n",
       "      <td>Suiza</td>\n",
       "      <td>2022</td>\n",
       "      <td>1</td>\n",
       "      <td>0</td>\n",
       "    </tr>\n",
       "    <tr>\n",
       "      <th>3</th>\n",
       "      <td>Camerún</td>\n",
       "      <td>Brasil</td>\n",
       "      <td>2022</td>\n",
       "      <td>1</td>\n",
       "      <td>0</td>\n",
       "    </tr>\n",
       "    <tr>\n",
       "      <th>4</th>\n",
       "      <td>Brasil</td>\n",
       "      <td>Corea del Sur</td>\n",
       "      <td>2022</td>\n",
       "      <td>4</td>\n",
       "      <td>1</td>\n",
       "    </tr>\n",
       "    <tr>\n",
       "      <th>...</th>\n",
       "      <td>...</td>\n",
       "      <td>...</td>\n",
       "      <td>...</td>\n",
       "      <td>...</td>\n",
       "      <td>...</td>\n",
       "    </tr>\n",
       "    <tr>\n",
       "      <th>649</th>\n",
       "      <td>Argentina</td>\n",
       "      <td>Ecuador</td>\n",
       "      <td>2021</td>\n",
       "      <td>3</td>\n",
       "      <td>0</td>\n",
       "    </tr>\n",
       "    <tr>\n",
       "      <th>650</th>\n",
       "      <td>Brasil</td>\n",
       "      <td>Perú</td>\n",
       "      <td>2021</td>\n",
       "      <td>1</td>\n",
       "      <td>0</td>\n",
       "    </tr>\n",
       "    <tr>\n",
       "      <th>651</th>\n",
       "      <td>Argentina</td>\n",
       "      <td>Colombia</td>\n",
       "      <td>2021</td>\n",
       "      <td>1</td>\n",
       "      <td>1</td>\n",
       "    </tr>\n",
       "    <tr>\n",
       "      <th>652</th>\n",
       "      <td>Colombia</td>\n",
       "      <td>Perú</td>\n",
       "      <td>2021</td>\n",
       "      <td>3</td>\n",
       "      <td>2</td>\n",
       "    </tr>\n",
       "    <tr>\n",
       "      <th>653</th>\n",
       "      <td>Argentina</td>\n",
       "      <td>Brasil</td>\n",
       "      <td>2021</td>\n",
       "      <td>1</td>\n",
       "      <td>0</td>\n",
       "    </tr>\n",
       "  </tbody>\n",
       "</table>\n",
       "<p>654 rows × 5 columns</p>\n",
       "</div>"
      ],
      "text/plain": [
       "          home           away  year GolesLocal GolesVisitante\n",
       "0    Argentina      Venezuela  2022          3              0\n",
       "1       Brasil         Serbia  2022          2              0\n",
       "2       Brasil          Suiza  2022          1              0\n",
       "3      Camerún         Brasil  2022          1              0\n",
       "4       Brasil  Corea del Sur  2022          4              1\n",
       "..         ...            ...   ...        ...            ...\n",
       "649  Argentina        Ecuador  2021          3              0\n",
       "650     Brasil           Perú  2021          1              0\n",
       "651  Argentina       Colombia  2021          1              1\n",
       "652   Colombia           Perú  2021          3              2\n",
       "653  Argentina         Brasil  2021          1              0\n",
       "\n",
       "[654 rows x 5 columns]"
      ]
     },
     "execution_count": 49,
     "metadata": {},
     "output_type": "execute_result"
    }
   ],
   "source": [
    "df_unido"
   ]
  },
  {
   "cell_type": "code",
   "execution_count": 50,
   "id": "0e175b06",
   "metadata": {},
   "outputs": [],
   "source": [
    "# rename columnas\n",
    "df_unido.rename(columns={'home' : 'EquipoLocal',\n",
    "                                  'away': 'EquipoVisitante',\n",
    "                                  'year': 'Año'}, inplace = True)"
   ]
  },
  {
   "cell_type": "code",
   "execution_count": 51,
   "id": "c33fbc54",
   "metadata": {},
   "outputs": [
    {
     "data": {
      "text/html": [
       "<div>\n",
       "<style scoped>\n",
       "    .dataframe tbody tr th:only-of-type {\n",
       "        vertical-align: middle;\n",
       "    }\n",
       "\n",
       "    .dataframe tbody tr th {\n",
       "        vertical-align: top;\n",
       "    }\n",
       "\n",
       "    .dataframe thead th {\n",
       "        text-align: right;\n",
       "    }\n",
       "</style>\n",
       "<table border=\"1\" class=\"dataframe\">\n",
       "  <thead>\n",
       "    <tr style=\"text-align: right;\">\n",
       "      <th></th>\n",
       "      <th>EquipoLocal</th>\n",
       "      <th>EquipoVisitante</th>\n",
       "      <th>Año</th>\n",
       "      <th>GolesLocal</th>\n",
       "      <th>GolesVisitante</th>\n",
       "    </tr>\n",
       "  </thead>\n",
       "  <tbody>\n",
       "    <tr>\n",
       "      <th>0</th>\n",
       "      <td>Argentina</td>\n",
       "      <td>Venezuela</td>\n",
       "      <td>2022</td>\n",
       "      <td>3</td>\n",
       "      <td>0</td>\n",
       "    </tr>\n",
       "    <tr>\n",
       "      <th>1</th>\n",
       "      <td>Brasil</td>\n",
       "      <td>Serbia</td>\n",
       "      <td>2022</td>\n",
       "      <td>2</td>\n",
       "      <td>0</td>\n",
       "    </tr>\n",
       "    <tr>\n",
       "      <th>2</th>\n",
       "      <td>Brasil</td>\n",
       "      <td>Suiza</td>\n",
       "      <td>2022</td>\n",
       "      <td>1</td>\n",
       "      <td>0</td>\n",
       "    </tr>\n",
       "    <tr>\n",
       "      <th>3</th>\n",
       "      <td>Camerún</td>\n",
       "      <td>Brasil</td>\n",
       "      <td>2022</td>\n",
       "      <td>1</td>\n",
       "      <td>0</td>\n",
       "    </tr>\n",
       "    <tr>\n",
       "      <th>4</th>\n",
       "      <td>Brasil</td>\n",
       "      <td>Corea del Sur</td>\n",
       "      <td>2022</td>\n",
       "      <td>4</td>\n",
       "      <td>1</td>\n",
       "    </tr>\n",
       "    <tr>\n",
       "      <th>...</th>\n",
       "      <td>...</td>\n",
       "      <td>...</td>\n",
       "      <td>...</td>\n",
       "      <td>...</td>\n",
       "      <td>...</td>\n",
       "    </tr>\n",
       "    <tr>\n",
       "      <th>649</th>\n",
       "      <td>Argentina</td>\n",
       "      <td>Ecuador</td>\n",
       "      <td>2021</td>\n",
       "      <td>3</td>\n",
       "      <td>0</td>\n",
       "    </tr>\n",
       "    <tr>\n",
       "      <th>650</th>\n",
       "      <td>Brasil</td>\n",
       "      <td>Perú</td>\n",
       "      <td>2021</td>\n",
       "      <td>1</td>\n",
       "      <td>0</td>\n",
       "    </tr>\n",
       "    <tr>\n",
       "      <th>651</th>\n",
       "      <td>Argentina</td>\n",
       "      <td>Colombia</td>\n",
       "      <td>2021</td>\n",
       "      <td>1</td>\n",
       "      <td>1</td>\n",
       "    </tr>\n",
       "    <tr>\n",
       "      <th>652</th>\n",
       "      <td>Colombia</td>\n",
       "      <td>Perú</td>\n",
       "      <td>2021</td>\n",
       "      <td>3</td>\n",
       "      <td>2</td>\n",
       "    </tr>\n",
       "    <tr>\n",
       "      <th>653</th>\n",
       "      <td>Argentina</td>\n",
       "      <td>Brasil</td>\n",
       "      <td>2021</td>\n",
       "      <td>1</td>\n",
       "      <td>0</td>\n",
       "    </tr>\n",
       "  </tbody>\n",
       "</table>\n",
       "<p>654 rows × 5 columns</p>\n",
       "</div>"
      ],
      "text/plain": [
       "    EquipoLocal EquipoVisitante   Año GolesLocal GolesVisitante\n",
       "0     Argentina       Venezuela  2022          3              0\n",
       "1        Brasil          Serbia  2022          2              0\n",
       "2        Brasil           Suiza  2022          1              0\n",
       "3       Camerún          Brasil  2022          1              0\n",
       "4        Brasil   Corea del Sur  2022          4              1\n",
       "..          ...             ...   ...        ...            ...\n",
       "649   Argentina         Ecuador  2021          3              0\n",
       "650      Brasil            Perú  2021          1              0\n",
       "651   Argentina        Colombia  2021          1              1\n",
       "652    Colombia            Perú  2021          3              2\n",
       "653   Argentina          Brasil  2021          1              0\n",
       "\n",
       "[654 rows x 5 columns]"
      ]
     },
     "execution_count": 51,
     "metadata": {},
     "output_type": "execute_result"
    }
   ],
   "source": [
    "df_unido"
   ]
  },
  {
   "cell_type": "code",
   "execution_count": 52,
   "id": "ff83c9c0",
   "metadata": {},
   "outputs": [
    {
     "name": "stdout",
     "output_type": "stream",
     "text": [
      "<class 'pandas.core.frame.DataFrame'>\n",
      "RangeIndex: 654 entries, 0 to 653\n",
      "Data columns (total 5 columns):\n",
      " #   Column           Non-Null Count  Dtype \n",
      "---  ------           --------------  ----- \n",
      " 0   EquipoLocal      654 non-null    object\n",
      " 1   EquipoVisitante  654 non-null    object\n",
      " 2   Año              654 non-null    int64 \n",
      " 3   GolesLocal       654 non-null    object\n",
      " 4   GolesVisitante   654 non-null    object\n",
      "dtypes: int64(1), object(4)\n",
      "memory usage: 25.7+ KB\n"
     ]
    }
   ],
   "source": [
    "df_unido.info()"
   ]
  },
  {
   "cell_type": "code",
   "execution_count": 53,
   "id": "5abcc7d2",
   "metadata": {},
   "outputs": [],
   "source": [
    "# Cambiar los goles a tipo integer\n",
    "\n",
    "df_unido=df_unido.astype({'GolesLocal': int, 'GolesVisitante' : int, 'Año' : int})"
   ]
  },
  {
   "cell_type": "code",
   "execution_count": 54,
   "id": "cac8706f",
   "metadata": {},
   "outputs": [
    {
     "name": "stdout",
     "output_type": "stream",
     "text": [
      "<class 'pandas.core.frame.DataFrame'>\n",
      "RangeIndex: 654 entries, 0 to 653\n",
      "Data columns (total 5 columns):\n",
      " #   Column           Non-Null Count  Dtype \n",
      "---  ------           --------------  ----- \n",
      " 0   EquipoLocal      654 non-null    object\n",
      " 1   EquipoVisitante  654 non-null    object\n",
      " 2   Año              654 non-null    int32 \n",
      " 3   GolesLocal       654 non-null    int32 \n",
      " 4   GolesVisitante   654 non-null    int32 \n",
      "dtypes: int32(3), object(2)\n",
      "memory usage: 18.0+ KB\n"
     ]
    }
   ],
   "source": [
    "df_unido.info()"
   ]
  },
  {
   "cell_type": "code",
   "execution_count": 55,
   "id": "b33b3e05",
   "metadata": {},
   "outputs": [],
   "source": [
    "# Goles totales\n",
    "df_unido ['GolesTotales'] = df_unido['GolesLocal'] + df_unido['GolesVisitante']"
   ]
  },
  {
   "cell_type": "code",
   "execution_count": 56,
   "id": "a2f65cff",
   "metadata": {},
   "outputs": [
    {
     "name": "stdout",
     "output_type": "stream",
     "text": [
      "<class 'pandas.core.frame.DataFrame'>\n",
      "RangeIndex: 654 entries, 0 to 653\n",
      "Data columns (total 6 columns):\n",
      " #   Column           Non-Null Count  Dtype \n",
      "---  ------           --------------  ----- \n",
      " 0   EquipoLocal      654 non-null    object\n",
      " 1   EquipoVisitante  654 non-null    object\n",
      " 2   Año              654 non-null    int32 \n",
      " 3   GolesLocal       654 non-null    int32 \n",
      " 4   GolesVisitante   654 non-null    int32 \n",
      " 5   GolesTotales     654 non-null    int32 \n",
      "dtypes: int32(4), object(2)\n",
      "memory usage: 20.6+ KB\n"
     ]
    }
   ],
   "source": [
    "df_unido.info()"
   ]
  },
  {
   "cell_type": "markdown",
   "id": "e203bd19",
   "metadata": {},
   "source": [
    "### Exportar data frame\n"
   ]
  },
  {
   "cell_type": "code",
   "execution_count": 57,
   "id": "94fe1b41",
   "metadata": {},
   "outputs": [],
   "source": [
    "df_unido.to_csv('copa_america_resultados_data_limpia.csv', index=False)"
   ]
  },
  {
   "cell_type": "code",
   "execution_count": 58,
   "id": "51de2801",
   "metadata": {},
   "outputs": [],
   "source": [
    "df_fixture.to_csv('copa_america2024_fixture_limpio.csv', index=False)"
   ]
  },
  {
   "cell_type": "markdown",
   "id": "9ab10c4e",
   "metadata": {},
   "source": [
    "### Chequeo interno si el numero de partidos coincide con el que dice internet que jugaron "
   ]
  },
  {
   "cell_type": "code",
   "execution_count": 59,
   "id": "2201f850",
   "metadata": {},
   "outputs": [],
   "source": [
    "# Ediciones anteriores de copa america\n",
    "\n",
    "years = [1975, 1979, 1983, 1987, 1993, 1995, 1997, 1999, 2001, 2004, 2007,\n",
    "       2011, 2015, 2016, 2019, 2021]"
   ]
  },
  {
   "cell_type": "code",
   "execution_count": 60,
   "id": "9d96a61a",
   "metadata": {},
   "outputs": [
    {
     "name": "stdout",
     "output_type": "stream",
     "text": [
      "1975 25\n",
      "1979 25\n",
      "1983 24\n",
      "1987 13\n",
      "1993 26\n",
      "1995 26\n",
      "1997 26\n",
      "1999 26\n",
      "2001 26\n",
      "2004 26\n",
      "2007 26\n",
      "2011 8\n",
      "2015 8\n",
      "2016 32\n",
      "2019 26\n",
      "2021 28\n"
     ]
    }
   ],
   "source": [
    "for year in years:\n",
    "    print(year, len(df_datos_historicos[df_datos_historicos['year'] == year]))"
   ]
  },
  {
   "cell_type": "code",
   "execution_count": 61,
   "id": "9ea86128",
   "metadata": {},
   "outputs": [],
   "source": [
    "# coincide con la informcaion de wikipedia"
   ]
  },
  {
   "cell_type": "code",
   "execution_count": null,
   "id": "26cefde3",
   "metadata": {},
   "outputs": [],
   "source": []
  },
  {
   "cell_type": "code",
   "execution_count": null,
   "id": "c0a0ff3f",
   "metadata": {},
   "outputs": [],
   "source": []
  }
 ],
 "metadata": {
  "kernelspec": {
   "display_name": "Python 3 (ipykernel)",
   "language": "python",
   "name": "python3"
  },
  "language_info": {
   "codemirror_mode": {
    "name": "ipython",
    "version": 3
   },
   "file_extension": ".py",
   "mimetype": "text/x-python",
   "name": "python",
   "nbconvert_exporter": "python",
   "pygments_lexer": "ipython3",
   "version": "3.11.5"
  }
 },
 "nbformat": 4,
 "nbformat_minor": 5
}
