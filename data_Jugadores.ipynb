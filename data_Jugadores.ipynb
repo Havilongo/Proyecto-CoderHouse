{
 "cells": [
  {
   "cell_type": "code",
   "execution_count": 12,
   "id": "4d47c598",
   "metadata": {},
   "outputs": [],
   "source": [
    "import numpy as np\n",
    "import pandas as pd\n",
    "import seaborn as sns\n",
    "import matplotlib.pyplot as plt\n"
   ]
  },
  {
   "cell_type": "markdown",
   "id": "b577bf3a",
   "metadata": {},
   "source": [
    "# Para los jugadores voy a utilizar un dataframe que encontre en Kragle con los datos del FIFA24 con estadisticas de los jugadores "
   ]
  },
  {
   "cell_type": "code",
   "execution_count": 13,
   "id": "a074903c",
   "metadata": {},
   "outputs": [
    {
     "data": {
      "text/plain": [
       "Name              0\n",
       "Age               0\n",
       "Nation            0\n",
       "Overall           0\n",
       "Gender            0\n",
       "Club              0\n",
       "Preferred foot    0\n",
       "Skill moves       0\n",
       "Position          0\n",
       "dtype: int64"
      ]
     },
     "execution_count": 13,
     "metadata": {},
     "output_type": "execute_result"
    }
   ],
   "source": [
    "# Subo el dataser\n",
    "df = pd.read_csv('https://raw.githubusercontent.com/Havilongo/Proyecto-CoderHouse/main/all_players.csv', low_memory=False, index_col=0)\n",
    "#df2 = pd.read_csv('https://raw.githubusercontent.com/thepycoach/fifa-world-cup-2022-prediction/main/data/players_22.csv')\n",
    "# selecting column\n",
    "df = df[['Name', 'Age', 'Nation', 'Overall', 'Gender',\n",
    "        'Club', 'Preferred foot', 'Skill moves', 'Position']]\n",
    "\n",
    "\n",
    "# dropping nan\n",
    "df.isna().sum()"
   ]
  },
  {
   "cell_type": "code",
   "execution_count": 14,
   "id": "368c921f",
   "metadata": {},
   "outputs": [
    {
     "data": {
      "text/html": [
       "<div>\n",
       "<style scoped>\n",
       "    .dataframe tbody tr th:only-of-type {\n",
       "        vertical-align: middle;\n",
       "    }\n",
       "\n",
       "    .dataframe tbody tr th {\n",
       "        vertical-align: top;\n",
       "    }\n",
       "\n",
       "    .dataframe thead th {\n",
       "        text-align: right;\n",
       "    }\n",
       "</style>\n",
       "<table border=\"1\" class=\"dataframe\">\n",
       "  <thead>\n",
       "    <tr style=\"text-align: right;\">\n",
       "      <th></th>\n",
       "      <th>Name</th>\n",
       "      <th>Age</th>\n",
       "      <th>Nation</th>\n",
       "      <th>Overall</th>\n",
       "      <th>Gender</th>\n",
       "      <th>Club</th>\n",
       "      <th>Preferred foot</th>\n",
       "      <th>Skill moves</th>\n",
       "      <th>Position</th>\n",
       "    </tr>\n",
       "  </thead>\n",
       "  <tbody>\n",
       "    <tr>\n",
       "      <th>0</th>\n",
       "      <td>Kylian Mbappé</td>\n",
       "      <td>24</td>\n",
       "      <td>France</td>\n",
       "      <td>91</td>\n",
       "      <td>M</td>\n",
       "      <td>Paris SG</td>\n",
       "      <td>Right</td>\n",
       "      <td>5</td>\n",
       "      <td>ST</td>\n",
       "    </tr>\n",
       "    <tr>\n",
       "      <th>1</th>\n",
       "      <td>Erling Haaland</td>\n",
       "      <td>23</td>\n",
       "      <td>Norway</td>\n",
       "      <td>91</td>\n",
       "      <td>M</td>\n",
       "      <td>Manchester City</td>\n",
       "      <td>Left</td>\n",
       "      <td>3</td>\n",
       "      <td>ST</td>\n",
       "    </tr>\n",
       "    <tr>\n",
       "      <th>2</th>\n",
       "      <td>Kevin De Bruyne</td>\n",
       "      <td>32</td>\n",
       "      <td>Belgium</td>\n",
       "      <td>91</td>\n",
       "      <td>M</td>\n",
       "      <td>Manchester City</td>\n",
       "      <td>Right</td>\n",
       "      <td>4</td>\n",
       "      <td>CM</td>\n",
       "    </tr>\n",
       "    <tr>\n",
       "      <th>3</th>\n",
       "      <td>Lionel Messi</td>\n",
       "      <td>36</td>\n",
       "      <td>Argentina</td>\n",
       "      <td>90</td>\n",
       "      <td>M</td>\n",
       "      <td>Inter Miami CF</td>\n",
       "      <td>Left</td>\n",
       "      <td>4</td>\n",
       "      <td>CF</td>\n",
       "    </tr>\n",
       "    <tr>\n",
       "      <th>4</th>\n",
       "      <td>Karim Benzema</td>\n",
       "      <td>35</td>\n",
       "      <td>France</td>\n",
       "      <td>90</td>\n",
       "      <td>M</td>\n",
       "      <td>Al Ittihad</td>\n",
       "      <td>Right</td>\n",
       "      <td>4</td>\n",
       "      <td>CF</td>\n",
       "    </tr>\n",
       "    <tr>\n",
       "      <th>...</th>\n",
       "      <td>...</td>\n",
       "      <td>...</td>\n",
       "      <td>...</td>\n",
       "      <td>...</td>\n",
       "      <td>...</td>\n",
       "      <td>...</td>\n",
       "      <td>...</td>\n",
       "      <td>...</td>\n",
       "      <td>...</td>\n",
       "    </tr>\n",
       "    <tr>\n",
       "      <th>15840</th>\n",
       "      <td>Deven Sawhney</td>\n",
       "      <td>21</td>\n",
       "      <td>India</td>\n",
       "      <td>47</td>\n",
       "      <td>M</td>\n",
       "      <td>Odisha FC</td>\n",
       "      <td>Left</td>\n",
       "      <td>2</td>\n",
       "      <td>LB</td>\n",
       "    </tr>\n",
       "    <tr>\n",
       "      <th>15841</th>\n",
       "      <td>Wang Tengda</td>\n",
       "      <td>22</td>\n",
       "      <td>China PR</td>\n",
       "      <td>47</td>\n",
       "      <td>M</td>\n",
       "      <td>Dalian Pro</td>\n",
       "      <td>Right</td>\n",
       "      <td>2</td>\n",
       "      <td>CM</td>\n",
       "    </tr>\n",
       "    <tr>\n",
       "      <th>15842</th>\n",
       "      <td>Wu Yuhang</td>\n",
       "      <td>22</td>\n",
       "      <td>China PR</td>\n",
       "      <td>47</td>\n",
       "      <td>M</td>\n",
       "      <td>Zhejiang Pro</td>\n",
       "      <td>Right</td>\n",
       "      <td>2</td>\n",
       "      <td>CDM</td>\n",
       "    </tr>\n",
       "    <tr>\n",
       "      <th>15843</th>\n",
       "      <td>Ye Daoxin</td>\n",
       "      <td>17</td>\n",
       "      <td>China PR</td>\n",
       "      <td>47</td>\n",
       "      <td>M</td>\n",
       "      <td>Zhejiang Pro</td>\n",
       "      <td>Right</td>\n",
       "      <td>2</td>\n",
       "      <td>CB</td>\n",
       "    </tr>\n",
       "    <tr>\n",
       "      <th>15844</th>\n",
       "      <td>Yin Jie</td>\n",
       "      <td>22</td>\n",
       "      <td>China PR</td>\n",
       "      <td>47</td>\n",
       "      <td>M</td>\n",
       "      <td>Zhejiang Pro</td>\n",
       "      <td>Right</td>\n",
       "      <td>2</td>\n",
       "      <td>CM</td>\n",
       "    </tr>\n",
       "  </tbody>\n",
       "</table>\n",
       "<p>15845 rows × 9 columns</p>\n",
       "</div>"
      ],
      "text/plain": [
       "                  Name  Age     Nation  Overall Gender             Club  \\\n",
       "0        Kylian Mbappé   24     France       91      M         Paris SG   \n",
       "1       Erling Haaland   23     Norway       91      M  Manchester City   \n",
       "2      Kevin De Bruyne   32    Belgium       91      M  Manchester City   \n",
       "3         Lionel Messi   36  Argentina       90      M   Inter Miami CF   \n",
       "4        Karim Benzema   35     France       90      M       Al Ittihad   \n",
       "...                ...  ...        ...      ...    ...              ...   \n",
       "15840    Deven Sawhney   21      India       47      M        Odisha FC   \n",
       "15841      Wang Tengda   22   China PR       47      M       Dalian Pro   \n",
       "15842        Wu Yuhang   22   China PR       47      M     Zhejiang Pro   \n",
       "15843        Ye Daoxin   17   China PR       47      M     Zhejiang Pro   \n",
       "15844          Yin Jie   22   China PR       47      M     Zhejiang Pro   \n",
       "\n",
       "      Preferred foot  Skill moves Position  \n",
       "0              Right            5       ST  \n",
       "1               Left            3       ST  \n",
       "2              Right            4       CM  \n",
       "3               Left            4       CF  \n",
       "4              Right            4       CF  \n",
       "...              ...          ...      ...  \n",
       "15840           Left            2       LB  \n",
       "15841          Right            2       CM  \n",
       "15842          Right            2      CDM  \n",
       "15843          Right            2       CB  \n",
       "15844          Right            2       CM  \n",
       "\n",
       "[15845 rows x 9 columns]"
      ]
     },
     "execution_count": 14,
     "metadata": {},
     "output_type": "execute_result"
    }
   ],
   "source": [
    "# Filtro solo los masculinos\n",
    "df = df.loc[df['Gender'] == 'M']\n",
    "df"
   ]
  },
  {
   "cell_type": "markdown",
   "id": "ef8a9c3d",
   "metadata": {},
   "source": [
    "### Filtro por los equipos presentes en la copa"
   ]
  },
  {
   "cell_type": "code",
   "execution_count": 15,
   "id": "d69e9bc4",
   "metadata": {},
   "outputs": [],
   "source": [
    "equipos_copa = [\n",
    "    'Peru', 'Brazil', 'Canada', 'Argentina',\n",
    "    'Mexico', 'Uruguay', 'Bolivia', 'United States', \n",
    "    'Canada', 'Ecuador', 'Costa Rica','Chile', \n",
    "    'Venezuela' ,'Paraguay','Jamaica', 'Panama'\n",
    "]\n",
    "\n",
    "# filtering only national teams in the world cup\n",
    "df = df[df['Nation'].isin(equipos_copa)]"
   ]
  },
  {
   "cell_type": "code",
   "execution_count": 16,
   "id": "c1b6c8c2",
   "metadata": {},
   "outputs": [
    {
     "name": "stderr",
     "output_type": "stream",
     "text": [
      "C:\\Users\\theja\\AppData\\Local\\Temp\\ipykernel_10088\\1545088054.py:2: SettingWithCopyWarning: \n",
      "A value is trying to be set on a copy of a slice from a DataFrame\n",
      "\n",
      "See the caveats in the documentation: https://pandas.pydata.org/pandas-docs/stable/user_guide/indexing.html#returning-a-view-versus-a-copy\n",
      "  df.sort_values(by=['Overall', 'Skill moves'], ascending=False, inplace=True)\n"
     ]
    }
   ],
   "source": [
    "# best players\n",
    "df.sort_values(by=['Overall', 'Skill moves'], ascending=False, inplace=True)"
   ]
  },
  {
   "cell_type": "markdown",
   "id": "4ec7f92a",
   "metadata": {},
   "source": [
    "# Distribucion de los caracteriticas de los jugadores"
   ]
  },
  {
   "cell_type": "code",
   "execution_count": 17,
   "id": "fcf71ddd",
   "metadata": {
    "scrolled": false
   },
   "outputs": [
    {
     "name": "stderr",
     "output_type": "stream",
     "text": [
      "C:\\Users\\theja\\anaconda3\\Lib\\site-packages\\seaborn\\_oldcore.py:1119: FutureWarning: use_inf_as_na option is deprecated and will be removed in a future version. Convert inf values to NaN before operating instead.\n",
      "  with pd.option_context('mode.use_inf_as_na', True):\n"
     ]
    },
    {
     "data": {
      "image/png": "[encoded data removed]",
      "text/plain": [
       "<Figure size 1200x500 with 1 Axes>"
      ]
     },
     "metadata": {},
     "output_type": "display_data"
    }
   ],
   "source": [
    "import numpy as np\n",
    "fig, ax = plt.subplots(figsize=(12, 5), tight_layout=True)\n",
    "\n",
    "sns.histplot(df, x='Overall', binwidth=1)\n",
    "\n",
    "bins = np.arange(df['Overall'].min(), df['Overall'].max(), 1)\n",
    "plt.title('Distribucion del promedio de valuacion de los jugadores')\n",
    "plt.xticks(bins)\n",
    "plt.show()"
   ]
  },
  {
   "cell_type": "markdown",
   "id": "767b0df2",
   "metadata": {},
   "source": [
    "# Distribucion de la edad de los jugadores "
   ]
  },
  {
   "cell_type": "code",
   "execution_count": 18,
   "id": "f5fd55ad",
   "metadata": {},
   "outputs": [
    {
     "name": "stderr",
     "output_type": "stream",
     "text": [
      "C:\\Users\\theja\\anaconda3\\Lib\\site-packages\\seaborn\\_oldcore.py:1119: FutureWarning: use_inf_as_na option is deprecated and will be removed in a future version. Convert inf values to NaN before operating instead.\n",
      "  with pd.option_context('mode.use_inf_as_na', True):\n"
     ]
    },
    {
     "data": {
      "image/png": "[encoded data removed]",
      "text/plain": [
       "<Figure size 1200x500 with 1 Axes>"
      ]
     },
     "metadata": {},
     "output_type": "display_data"
    }
   ],
   "source": [
    "fig, ax = plt.subplots(figsize=(12, 5), tight_layout=True)\n",
    "\n",
    "sns.histplot(df, x='Age', binwidth=1)\n",
    "\n",
    "bins = np.arange(df['Age'].min(), df['Age'].max(), 1)\n",
    "plt.xticks(bins)\n",
    "plt.show()"
   ]
  },
  {
   "cell_type": "markdown",
   "id": "730edea7",
   "metadata": {},
   "source": [
    "# Graficos por equipo"
   ]
  },
  {
   "cell_type": "code",
   "execution_count": 19,
   "id": "437bffd1",
   "metadata": {
    "scrolled": true
   },
   "outputs": [
    {
     "data": {
      "text/html": [
       "<div>\n",
       "<style scoped>\n",
       "    .dataframe tbody tr th:only-of-type {\n",
       "        vertical-align: middle;\n",
       "    }\n",
       "\n",
       "    .dataframe tbody tr th {\n",
       "        vertical-align: top;\n",
       "    }\n",
       "\n",
       "    .dataframe thead th {\n",
       "        text-align: right;\n",
       "    }\n",
       "</style>\n",
       "<table border=\"1\" class=\"dataframe\">\n",
       "  <thead>\n",
       "    <tr style=\"text-align: right;\">\n",
       "      <th></th>\n",
       "      <th>Overall</th>\n",
       "    </tr>\n",
       "    <tr>\n",
       "      <th>Nation</th>\n",
       "      <th></th>\n",
       "    </tr>\n",
       "  </thead>\n",
       "  <tbody>\n",
       "    <tr>\n",
       "      <th>Argentina</th>\n",
       "      <td>69.057889</td>\n",
       "    </tr>\n",
       "    <tr>\n",
       "      <th>Bolivia</th>\n",
       "      <td>63.088235</td>\n",
       "    </tr>\n",
       "    <tr>\n",
       "      <th>Brazil</th>\n",
       "      <td>71.255556</td>\n",
       "    </tr>\n",
       "    <tr>\n",
       "      <th>Canada</th>\n",
       "      <td>65.246575</td>\n",
       "    </tr>\n",
       "    <tr>\n",
       "      <th>Chile</th>\n",
       "      <td>66.132353</td>\n",
       "    </tr>\n",
       "    <tr>\n",
       "      <th>Costa Rica</th>\n",
       "      <td>68.166667</td>\n",
       "    </tr>\n",
       "    <tr>\n",
       "      <th>Ecuador</th>\n",
       "      <td>67.014706</td>\n",
       "    </tr>\n",
       "    <tr>\n",
       "      <th>Jamaica</th>\n",
       "      <td>66.833333</td>\n",
       "    </tr>\n",
       "    <tr>\n",
       "      <th>Mexico</th>\n",
       "      <td>69.235294</td>\n",
       "    </tr>\n",
       "    <tr>\n",
       "      <th>Panama</th>\n",
       "      <td>68.444444</td>\n",
       "    </tr>\n",
       "    <tr>\n",
       "      <th>Paraguay</th>\n",
       "      <td>65.694915</td>\n",
       "    </tr>\n",
       "    <tr>\n",
       "      <th>Peru</th>\n",
       "      <td>67.307692</td>\n",
       "    </tr>\n",
       "    <tr>\n",
       "      <th>United States</th>\n",
       "      <td>63.944444</td>\n",
       "    </tr>\n",
       "    <tr>\n",
       "      <th>Uruguay</th>\n",
       "      <td>68.882591</td>\n",
       "    </tr>\n",
       "    <tr>\n",
       "      <th>Venezuela</th>\n",
       "      <td>65.664122</td>\n",
       "    </tr>\n",
       "  </tbody>\n",
       "</table>\n",
       "</div>"
      ],
      "text/plain": [
       "                 Overall\n",
       "Nation                  \n",
       "Argentina      69.057889\n",
       "Bolivia        63.088235\n",
       "Brazil         71.255556\n",
       "Canada         65.246575\n",
       "Chile          66.132353\n",
       "Costa Rica     68.166667\n",
       "Ecuador        67.014706\n",
       "Jamaica        66.833333\n",
       "Mexico         69.235294\n",
       "Panama         68.444444\n",
       "Paraguay       65.694915\n",
       "Peru           67.307692\n",
       "United States  63.944444\n",
       "Uruguay        68.882591\n",
       "Venezuela      65.664122"
      ]
     },
     "execution_count": 19,
     "metadata": {},
     "output_type": "execute_result"
    }
   ],
   "source": [
    "promedio_overall = df.groupby('Nation')[['Overall']].mean()\n",
    "promedio_overall"
   ]
  },
  {
   "cell_type": "code",
   "execution_count": 20,
   "id": "6b4b71d5",
   "metadata": {},
   "outputs": [
    {
     "data": {
      "image/png": "[encoded data removed]",
      "text/plain": [
       "<Figure size 1200x500 with 1 Axes>"
      ]
     },
     "metadata": {},
     "output_type": "display_data"
    }
   ],
   "source": [
    "fig, ax = plt.subplots(figsize=(12, 5), tight_layout=True)\n",
    "\n",
    "sns.barplot(promedio_overall, x=promedio_overall.index, y='Overall',\n",
    "            palette=sns.color_palette('pastel'))\n",
    "plt.title('Comparacion de valuacion de jugadores por equipos')\n",
    "plt.show()"
   ]
  },
  {
   "cell_type": "markdown",
   "id": "a943d4b1",
   "metadata": {},
   "source": [
    "###  No hay mucha diferencia entre equipos, tal vez una vez que sepa que jugadores van, puedo filtrar la lista por aquellos jugadores."
   ]
  },
  {
   "cell_type": "code",
   "execution_count": null,
   "id": "1b6811c5",
   "metadata": {},
   "outputs": [],
   "source": []
  },
  {
   "cell_type": "code",
   "execution_count": null,
   "id": "c57e715b",
   "metadata": {},
   "outputs": [],
   "source": []
  }
 ],
 "metadata": {
  "kernelspec": {
   "display_name": "Python 3 (ipykernel)",
   "language": "python",
   "name": "python3"
  },
  "language_info": {
   "codemirror_mode": {
    "name": "ipython",
    "version": 3
   },
   "file_extension": ".py",
   "mimetype": "text/x-python",
   "name": "python",
   "nbconvert_exporter": "python",
   "pygments_lexer": "ipython3",
   "version": "3.11.5"
  },
  "toc": {
   "base_numbering": 1,
   "nav_menu": {},
   "number_sections": true,
   "sideBar": true,
   "skip_h1_title": false,
   "title_cell": "Table of Contents",
   "title_sidebar": "Contents",
   "toc_cell": false,
   "toc_position": {},
   "toc_section_display": true,
   "toc_window_display": false
  }
 },
 "nbformat": 4,
 "nbformat_minor": 5
}
